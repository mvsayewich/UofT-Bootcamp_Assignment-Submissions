{
 "cells": [
  {
   "cell_type": "code",
   "execution_count": 15,
   "metadata": {},
   "outputs": [],
   "source": [
    "# Import BeautifulSoup \n",
    "from bs4 import BeautifulSoup"
   ]
  },
  {
   "cell_type": "code",
   "execution_count": 16,
   "metadata": {},
   "outputs": [],
   "source": [
    "# Import splinter \n",
    "from splinter import Browser\n",
    "#executable_path = {\"executable_path\": \"C:/Users/Mariaveronica/Program Files/chromedriver\"}\n",
    "executable_path = {\"executable_path\": \"C:/Program Files/chromedriver\"}\n",
    "browser = Browser(\"chrome\", **executable_path, headless=False)"
   ]
  },
  {
   "cell_type": "code",
   "execution_count": 17,
   "metadata": {},
   "outputs": [],
   "source": [
    "# NASA news URL\n",
    "nasa_url = \"https://mars.nasa.gov/news/\"\n",
    "browser.visit(nasa_url)"
   ]
  },
  {
   "cell_type": "code",
   "execution_count": 18,
   "metadata": {},
   "outputs": [],
   "source": [
    "# Scrape \n",
    "html = browser.html\n",
    "soup = BeautifulSoup(html, 'html.parser')"
   ]
  },
  {
   "cell_type": "code",
   "execution_count": 19,
   "metadata": {},
   "outputs": [
    {
     "name": "stdout",
     "output_type": "stream",
     "text": [
      "Article: Rover Team Beaming New Commands to Opportunity on Mars\n",
      "Date:  January 25, 2019\n",
      "Teaser: Engineers at JPL have begun transmitting a new set of commands to Opportunity in an attempt to compel the Mars rover to contact Earth.\n"
     ]
    }
   ],
   "source": [
    "# Save the most recent article, title and date\n",
    "article = soup.find(\"div\", class_=\"list_text\")\n",
    "teaser = article.find(\"div\", class_=\"article_teaser_body\").text\n",
    "title = article.find(\"div\", class_=\"content_title\").text\n",
    "date = article.find(\"div\", class_=\"list_date\").text\n",
    "print(\"Article: \" + title)\n",
    "print(\"Date: \" + date)\n",
    "print(\"Teaser: \" + teaser)"
   ]
  },
  {
   "cell_type": "code",
   "execution_count": 21,
   "metadata": {},
   "outputs": [
    {
     "name": "stdout",
     "output_type": "stream",
     "text": [
      "https://jpl.nasa.gov/spaceimages/images/wallpaper/PIA23022-640x350.jpg\n"
     ]
    },
    {
     "data": {
      "text/html": [
       "<img src=\"Cross-Section of a Complex Crater.jpg\"/>"
      ],
      "text/plain": [
       "<IPython.core.display.Image object>"
      ]
     },
     "execution_count": 21,
     "metadata": {},
     "output_type": "execute_result"
    }
   ],
   "source": [
    "# JPL Mars URL\n",
    "jpl_url = \"https://jpl.nasa.gov/spaceimages/?search=&category=Mars\"\n",
    "browser.visit(jpl_url)\n",
    "\n",
    "# Scrape the browser into soup and use soup to find the image of mars\n",
    "html = browser.html\n",
    "soup = BeautifulSoup(html, 'html.parser')\n",
    "image = soup.find(\"img\", class_=\"thumb\")[\"src\"]\n",
    "jpl_img_url = \"https://jpl.nasa.gov\"+image\n",
    "print(jpl_img_url)\n",
    "featured_image_url = jpl_img_url\n",
    "# Use the requests library to download and save the image from the `img_url` above\n",
    "import requests\n",
    "import shutil\n",
    "response = requests.get(jpl_img_url, stream=True)\n",
    "with open('Cross-Section of a Complex Crater.jpg', 'wb') as out_file:\n",
    "    shutil.copyfileobj(response.raw, out_file)\n",
    "    \n",
    "# Display the image with IPython.display\n",
    "from IPython.display import Image\n",
    "Image(url='Cross-Section of a Complex Crater.jpg')"
   ]
  },
  {
   "cell_type": "code",
   "execution_count": 22,
   "metadata": {},
   "outputs": [
    {
     "name": "stdout",
     "output_type": "stream",
     "text": [
      "Mars Latest  Weather: Sol 2299 (2019-01-24), high -5C/23F, low -74C/-101F, pressure at 8.18 hPa, daylight 06:46-18:55 https://t.co/UNiNdu3U8t\n"
     ]
    }
   ],
   "source": [
    "# Scrape Mars weather tweets\n",
    "import tweepy\n",
    "#from tweepy.auth import OAuthHandler\n",
    "consumer_token = '5msHmrvP2pOSp8HLFaHUk2rkK'\n",
    "consumer_secret = 't4iyJyWwREDv1vVbzNcO77WjNw2wuNbFDzG9aYnoOrY48cw2CF'\n",
    "access_token = '24885998-UF9KoVsrVie7kUhevAqRPxX0hodbVWid2OTamSNZF'\n",
    "access_token_secret = '623YALzOUYuBjvoTAKbToQWbcEaWGwVJhY73a3TtioEh0'\n",
    "\n",
    "# Setup Tweepy API Authentication\n",
    "auth = tweepy.OAuthHandler(consumer_token, consumer_secret)\n",
    "auth.set_access_token(access_token, access_token_secret)\n",
    "api = tweepy.API(auth, parser=tweepy.parsers.JSONParser())\n",
    "\n",
    "#Scrape latest weather tweet\n",
    "target_user = \"marswxreport\"\n",
    "full_tweet = api.user_timeline(target_user , count = 1)\n",
    "mars_weather=full_tweet[0]['text']\n",
    "print(\"Mars Latest  Weather: \"+ mars_weather)"
   ]
  },
  {
   "cell_type": "code",
   "execution_count": 23,
   "metadata": {},
   "outputs": [],
   "source": [
    "# Mars facts webpage \n",
    "spacefacts_url = \"http://space-facts.com/mars/\"\n",
    "browser.visit(spacefacts_url)"
   ]
  },
  {
   "cell_type": "code",
   "execution_count": 30,
   "metadata": {},
   "outputs": [
    {
     "name": "stdout",
     "output_type": "stream",
     "text": [
      "Mars Facts Dataframe\n",
      "                                               Data\n",
      "Mars                                               \n",
      "Equatorial Diameter:                       6,792 km\n",
      "Polar Diameter:                            6,752 km\n",
      "Mass:                 6.42 x 10^23 kg (10.7% Earth)\n",
      "Moons:                          2 (Phobos & Deimos)\n",
      "Orbit Distance:            227,943,824 km (1.52 AU)\n",
      "Orbit Period:                  687 days (1.9 years)\n",
      "Surface Temperature:                  -153 to 20 °C\n",
      "First Record:                     2nd millennium BC\n",
      "Recorded By:                   Egyptian astronomers\n"
     ]
    }
   ],
   "source": [
    "# place data into a dataframe \n",
    "import pandas as pd \n",
    "grab=pd.read_html(spacefacts_url)\n",
    "mars_data=pd.DataFrame(grab[0])\n",
    "mars_data.columns=['Mars','Data']\n",
    "mars_table=mars_data.set_index(\"Mars\")\n",
    "print(\"Mars Facts Dataframe\")\n",
    "print(mars_table)"
   ]
  },
  {
   "cell_type": "code",
   "execution_count": 51,
   "metadata": {},
   "outputs": [
    {
     "name": "stdout",
     "output_type": "stream",
     "text": [
      "Mars Facts in HTML on a String\n",
      "\n",
      "<table border=\"1\" class=\"dataframe marsdata\">   <thead>     <tr style=\"text-align: right;\">       <th></th>       <th>Data</th>     </tr>     <tr>       <th>Mars</th>       <th></th>     </tr>   </thead>   <tbody>     <tr>       <th>Equatorial Diameter:</th>       <td>6,792 km</td>     </tr>     <tr>       <th>Polar Diameter:</th>       <td>6,752 km</td>     </tr>     <tr>       <th>Mass:</th>       <td>6.42 x 10^23 kg (10.7% Earth)</td>     </tr>     <tr>       <th>Moons:</th>       <td>2 (Phobos &amp; Deimos)</td>     </tr>     <tr>       <th>Orbit Distance:</th>       <td>227,943,824 km (1.52 AU)</td>     </tr>     <tr>       <th>Orbit Period:</th>       <td>687 days (1.9 years)</td>     </tr>     <tr>       <th>Surface Temperature:</th>       <td>-153 to 20 °C</td>     </tr>     <tr>       <th>First Record:</th>       <td>2nd millennium BC</td>     </tr>     <tr>       <th>Recorded By:</th>       <td>Egyptian astronomers</td>     </tr>   </tbody> </table>\n",
      "\n",
      "\n",
      "\n",
      "----------\n",
      "\n",
      "\n",
      "\n",
      "Mars Facts in HTML\n"
     ]
    },
    {
     "data": {
      "text/html": [
       "<table border=\"1\" class=\"dataframe marsdata\">   <thead>     <tr style=\"text-align: right;\">       <th></th>       <th>Data</th>     </tr>     <tr>       <th>Mars</th>       <th></th>     </tr>   </thead>   <tbody>     <tr>       <th>Equatorial Diameter:</th>       <td>6,792 km</td>     </tr>     <tr>       <th>Polar Diameter:</th>       <td>6,752 km</td>     </tr>     <tr>       <th>Mass:</th>       <td>6.42 x 10^23 kg (10.7% Earth)</td>     </tr>     <tr>       <th>Moons:</th>       <td>2 (Phobos &amp; Deimos)</td>     </tr>     <tr>       <th>Orbit Distance:</th>       <td>227,943,824 km (1.52 AU)</td>     </tr>     <tr>       <th>Orbit Period:</th>       <td>687 days (1.9 years)</td>     </tr>     <tr>       <th>Surface Temperature:</th>       <td>-153 to 20 °C</td>     </tr>     <tr>       <th>First Record:</th>       <td>2nd millennium BC</td>     </tr>     <tr>       <th>Recorded By:</th>       <td>Egyptian astronomers</td>     </tr>   </tbody> </table>"
      ],
      "text/plain": [
       "<IPython.core.display.HTML object>"
      ]
     },
     "metadata": {},
     "output_type": "display_data"
    }
   ],
   "source": [
    "# Output dataframe into an HTML table\n",
    "marsdata_html = mars_table.to_html(classes='marsdata')\n",
    "marsdata_html=marsdata.replace('\\n', ' ')\n",
    "print(\"Mars Facts in HTML on a String\"'\\n')\n",
    "print(marsdata_html)\n",
    "print('\\n''\\n''\\n'\"----------\"'\\n''\\n''\\n')\n",
    "print(\"Mars Facts in HTML with Design\")\n",
    "from IPython.core.display import display, HTML\n",
    "display(HTML(marsdata_html))"
   ]
  },
  {
   "cell_type": "code",
   "execution_count": 36,
   "metadata": {},
   "outputs": [],
   "source": [
    "# Visit the USGS Astogeology site \n",
    "#astrogeology_url = \"https://astrogeology.usgs.gov/search/results?q=hemisphere+enhanced&k1=target&v1=Mars\"\n",
    "#browser.visit(astrogeology_url)\n",
    "\n",
    "#Changed due to government shutdown of wepage\n",
    "planetary_url = \"http://www.planetary.org/blogs/guest-blogs/bill-dunford/20140203-the-faces-of-mars.html\"\n",
    "browser.visit(planetary_url)"
   ]
  },
  {
   "cell_type": "code",
   "execution_count": 57,
   "metadata": {},
   "outputs": [
    {
     "name": "stdout",
     "output_type": "stream",
     "text": [
      "Faces of Mars Dictionary:\n",
      "\n",
      "\n",
      "{'Viking 2 Approaches Mars': 'https://planetary.s3.amazonaws.com/assets/images/4-mars/2014/20140202_schiaparelli_enhanced_f840.jpg', 'Mars: Valles Marineris Hemisphere': 'https://planetary.s3.amazonaws.com/assets/images/4-mars/2014/20140202_schiaparelli_enhanced_f840.jpg', 'Mars: Syrtis Major Hemisphere': 'https://planetary.s3.amazonaws.com/assets/images/4-mars/2014/20140202_schiaparelli_enhanced_f840.jpg', 'Mars: Cerberus Hemisphere ': 'https://planetary.s3.amazonaws.com/assets/images/4-mars/2014/20140202_schiaparelli_enhanced_f840.jpg', 'Mars: Schiaparelli Hemisphere ': 'https://planetary.s3.amazonaws.com/assets/images/4-mars/2014/20140202_schiaparelli_enhanced_f840.jpg'}\n",
      "\n",
      "\n",
      "----------\n",
      "\n",
      "\n",
      "Faces of Mars Titles:\n",
      "\n",
      "\n",
      "['Viking 2 Approaches Mars', 'Mars: Valles Marineris Hemisphere', 'Mars: Syrtis Major Hemisphere', 'Mars: Cerberus Hemisphere ', 'Mars: Schiaparelli Hemisphere ']\n",
      "\n",
      "\n",
      "----------\n",
      "\n",
      "\n",
      "Faces of Mars URLs:\n",
      "\n",
      "\n",
      "<img alt=\"Mars: Schiaparelli Hemisphere \" class=\"img840\" src=\"https://planetary.s3.amazonaws.com/assets/images/4-mars/2014/20140202_schiaparelli_enhanced_f840.jpg\">https://planetary.s3.amazonaws.com/assets/images/4-mars/2014/20140202_schiaparelli_enhanced_f840.jpghttps://planetary.s3.amazonaws.com/assets/images/4-mars/2014/20140202_schiaparelli_enhanced_f840.jpghttps://planetary.s3.amazonaws.com/assets/images/4-mars/2014/20140202_schiaparelli_enhanced_f840.jpghttps://planetary.s3.amazonaws.com/assets/images/4-mars/2014/20140202_schiaparelli_enhanced_f840.jpghttps://planetary.s3.amazonaws.com/assets/images/4-mars/2014/20140202_schiaparelli_enhanced_f840.jpghttps://planetary.s3.amazonaws.com/assets/images/4-mars/2014/20140202_schiaparelli_enhanced_f840.jpghttps://planetary.s3.amazonaws.com/assets/images/4-mars/2014/20140202_schiaparelli_enhanced_f840.jpghttps://planetary.s3.amazonaws.com/assets/images/4-mars/2014/20140202_schiaparelli_enhanced_f840.jpghttps://planetary.s3.amazonaws.com/assets/images/4-mars/2014/20140202_schiaparelli_enhanced_f840.jpghttps://planetary.s3.amazonaws.com/assets/images/4-mars/2014/20140202_schiaparelli_enhanced_f840.jpg</img>\n"
     ]
    }
   ],
   "source": [
    "# Use splinter to loop through the 4 images and load them into a dictionary\n",
    "import time \n",
    "html_2 = browser.html\n",
    "soup_2 = BeautifulSoup(html_2, 'html.parser')\n",
    "\n",
    "title= []\n",
    "image_url= []\n",
    "\n",
    "for images in soup.find_all('div', class_='img-caption-box'):\n",
    "    img = images.find('img', alt=True)\n",
    "    url = images.find('img', src=True)\n",
    "    #print(img['alt'])\n",
    "    #print(url['src'])\n",
    "    title.append(img['alt'])\n",
    "    url.append(url['src'])\n",
    "\n",
    "dictionary = dict(zip(title, url))\n",
    "\n",
    "print(\"Faces of Mars Dictionary:\"'\\n''\\n')\n",
    "print(dictionary)\n",
    "print('\\n''\\n'\"----------\"'\\n''\\n')\n",
    "print(\"Faces of Mars Titles:\"'\\n''\\n')            \n",
    "print(title)\n",
    "print('\\n''\\n'\"----------\"'\\n''\\n')\n",
    "print(\"Faces of Mars URLs:\"'\\n''\\n')\n",
    "print(url)"
   ]
  },
  {
   "cell_type": "code",
   "execution_count": null,
   "metadata": {},
   "outputs": [],
   "source": []
  }
 ],
 "metadata": {
  "kernelspec": {
   "display_name": "Python 3",
   "language": "python",
   "name": "python3"
  },
  "language_info": {
   "codemirror_mode": {
    "name": "ipython",
    "version": 3
   },
   "file_extension": ".py",
   "mimetype": "text/x-python",
   "name": "python",
   "nbconvert_exporter": "python",
   "pygments_lexer": "ipython3",
   "version": "3.6.5"
  }
 },
 "nbformat": 4,
 "nbformat_minor": 2
}
